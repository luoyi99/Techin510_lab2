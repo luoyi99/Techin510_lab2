{
 "cells": [
  {
   "cell_type": "code",
   "execution_count": 1,
   "metadata": {},
   "outputs": [
    {
     "name": "stdout",
     "output_type": "stream",
     "text": [
      "Requirement already satisfied: requests in /Users/nancyluo/anaconda3/lib/python3.11/site-packages (from -r requirements.txt (line 1)) (2.31.0)\n",
      "Requirement already satisfied: beautifulsoup4 in /Users/nancyluo/anaconda3/lib/python3.11/site-packages (from -r requirements.txt (line 2)) (4.12.2)\n",
      "Requirement already satisfied: charset-normalizer<4,>=2 in /Users/nancyluo/anaconda3/lib/python3.11/site-packages (from requests->-r requirements.txt (line 1)) (2.0.4)\n",
      "Requirement already satisfied: idna<4,>=2.5 in /Users/nancyluo/anaconda3/lib/python3.11/site-packages (from requests->-r requirements.txt (line 1)) (3.4)\n",
      "Requirement already satisfied: urllib3<3,>=1.21.1 in /Users/nancyluo/anaconda3/lib/python3.11/site-packages (from requests->-r requirements.txt (line 1)) (1.26.16)\n",
      "Requirement already satisfied: certifi>=2017.4.17 in /Users/nancyluo/anaconda3/lib/python3.11/site-packages (from requests->-r requirements.txt (line 1)) (2023.7.22)\n",
      "Requirement already satisfied: soupsieve>1.2 in /Users/nancyluo/anaconda3/lib/python3.11/site-packages (from beautifulsoup4->-r requirements.txt (line 2)) (2.4)\n"
     ]
    }
   ],
   "source": [
    "! pip install -r requirements.txt"
   ]
  },
  {
   "cell_type": "code",
   "execution_count": 2,
   "metadata": {},
   "outputs": [],
   "source": [
    "import requests\n",
    "from bs4 import BeautifulSoup\n",
    "import time"
   ]
  },
  {
   "cell_type": "code",
   "execution_count": 3,
   "metadata": {},
   "outputs": [
    {
     "name": "stdout",
     "output_type": "stream",
     "text": [
      "['https://visitseattle.org/events/tribute-to-john-williams/', 'https://visitseattle.org/events/lakecia-benjamin-and-phoenix/', 'https://visitseattle.org/events/corey-harper/', 'https://visitseattle.org/events/dj-shadow/', 'https://visitseattle.org/events/opera-on-tap/', 'https://visitseattle.org/events/pbs-peter-band-supreme/', 'https://visitseattle.org/events/seattle-kraken-vs-chicago-blackhawks-2/', 'https://visitseattle.org/events/silent-planet/', 'https://visitseattle.org/events/stuff-you-should-know/', 'https://visitseattle.org/events/the-cooking-gene/', 'https://visitseattle.org/events/aryana-leon/', 'https://visitseattle.org/events/colorworks/', 'https://visitseattle.org/events/dar-williams/', 'https://visitseattle.org/events/deb-perelman/', 'https://visitseattle.org/events/emanuel-brown/', 'https://visitseattle.org/events/james-miles/', 'https://visitseattle.org/events/madeline-pendleton/', 'https://visitseattle.org/events/october-london/', 'https://visitseattle.org/events/tacoma-stars-vs-empire-strykers/', 'https://visitseattle.org/events/dungeons-and-drag-queens/', 'https://visitseattle.org/events/global-rhythms-yungchen-lhamo/', 'https://visitseattle.org/events/harlem-globetrotters-2024-world-tour/', 'https://visitseattle.org/events/seattle-kraken-vs-st-louis-blues/', 'https://visitseattle.org/events/shelf-nunny/', 'https://visitseattle.org/events/super-diamond-the-neil-diamond-tribute-band/', 'https://visitseattle.org/events/the-disorderlies-2/', 'https://visitseattle.org/events/compania-nacional-de-danza/', 'https://visitseattle.org/events/metropolis/', 'https://visitseattle.org/events/andy-coe-band/', 'https://visitseattle.org/events/harlem-globetrotters/', 'https://visitseattle.org/events/seattle-thunderbirds-vs-everett-silvertips-2/', 'https://visitseattle.org/events/the-budos-band/', 'https://visitseattle.org/events/the-human-family/', 'https://visitseattle.org/events/steinunn-porarinsdottir-wayfinders/', 'https://visitseattle.org/events/hanako-oleary-izanami/', 'https://visitseattle.org/events/gage-alumni-show/', 'https://visitseattle.org/events/bohemia/', 'https://visitseattle.org/events/lee-ritenour-and-dave-grusin/', 'https://visitseattle.org/events/celebrate-asia/', 'https://visitseattle.org/events/family-day-with-birds-connect-seattle/', 'https://visitseattle.org/events/seattle-kraken-vs-columbus-blue-jackets/', 'https://visitseattle.org/events/tacoma-stars-vs-san-diego-sockers-3/', 'https://visitseattle.org/events/adira-sharkey/', 'https://visitseattle.org/events/car-the-garden/', 'https://visitseattle.org/events/cheryl-wheeler/', 'https://visitseattle.org/events/giantish/', 'https://visitseattle.org/events/seattle-thunderbirds-vs-prince-george-cougars-2/', 'https://visitseattle.org/events/a-political-rocks/', 'https://visitseattle.org/events/sophia-al-maria/', 'https://visitseattle.org/events/jahari-stampley/', 'https://visitseattle.org/events/fraktured-home-of-the-broken-beat/', 'https://visitseattle.org/events/g3-25th-anniversary-reunion/', 'https://visitseattle.org/events/jp-saxe/', 'https://visitseattle.org/events/los-lobos/', 'https://visitseattle.org/events/babytron/', 'https://visitseattle.org/events/catalyzing-change-with-akuyea-karen-vargas/', 'https://visitseattle.org/events/jamila-woods/', 'https://visitseattle.org/events/jazz-is-dead-blue-note-85/', 'https://visitseattle.org/events/michelle-cann/', 'https://visitseattle.org/events/pakt/', 'https://visitseattle.org/events/erik-walters/', 'https://visitseattle.org/events/memoir/', 'https://visitseattle.org/events/nora-en-pure/', 'https://visitseattle.org/events/poolside/', 'https://visitseattle.org/events/tacoma-stars-vs-monterrey-flash/', 'https://visitseattle.org/events/jaha-koo-the-history-of-korean-western-theatre/', 'https://visitseattle.org/events/the-winds-medley-of-emotions/', 'https://visitseattle.org/events/all-will-suffer/', 'https://visitseattle.org/events/cold-war-kids-20-years-tour/', 'https://visitseattle.org/events/mau-p/', 'https://visitseattle.org/events/randy-rainbow-for-president/', 'https://visitseattle.org/events/the-delta-bombers/', 'https://visitseattle.org/events/seattle-chamber-music-winter-festival/', 'https://visitseattle.org/events/beethoven-emperor-concerto/', 'https://visitseattle.org/events/sergio-mendes/', 'https://visitseattle.org/events/daniel-tigers-neighborhood/', 'https://visitseattle.org/events/lil-skies/', 'https://visitseattle.org/events/criminal/', 'https://visitseattle.org/events/neck-deep/', 'https://visitseattle.org/events/kazu-kibuishi-with-donna-barba-higuera/', 'https://visitseattle.org/events/night-lovell/', 'https://visitseattle.org/events/soja/', 'https://visitseattle.org/events/kenny-barron-trio/', 'https://visitseattle.org/events/tamara-payne-the-life-and-legacy-of-malcolm-x/', 'https://visitseattle.org/events/the-kills/', 'https://visitseattle.org/events/an-evening-with-tina-campt-black-feminist-visual-culture/', 'https://visitseattle.org/events/art-and-transformation/', 'https://visitseattle.org/events/eric-bellinger/', 'https://visitseattle.org/events/futurebirds-and-nude-party/', 'https://visitseattle.org/events/ilana-glazer-live/', 'https://visitseattle.org/events/mister-blank/', 'https://visitseattle.org/events/the-thorn/', 'https://visitseattle.org/events/barry-cant-swim/', 'https://visitseattle.org/events/dark-star-orchestra/', 'https://visitseattle.org/events/govt-mule/', 'https://visitseattle.org/events/mayer-hawthorne/', 'https://visitseattle.org/events/moontricks/', 'https://visitseattle.org/events/oboe-oboe/', 'https://visitseattle.org/events/seattle-boat-show/', 'https://visitseattle.org/events/randall-goosby-plays-mozart/', 'https://visitseattle.org/events/art-by-design/', 'https://visitseattle.org/events/brazilian-carnaval-2024/', 'https://visitseattle.org/events/chase-rice/', 'https://visitseattle.org/events/joe-mr-d-dombrowski/', 'https://visitseattle.org/events/jvna/', 'https://visitseattle.org/events/the-temptations-the-four-tops/', 'https://visitseattle.org/events/quixote-nuevo/', 'https://visitseattle.org/events/kent-stowells-swan-lake/', 'https://visitseattle.org/events/blood-sweat-and-tears/', 'https://visitseattle.org/events/love-at-the-zoo/', 'https://visitseattle.org/events/scott-bradlees-postmodern-jukebox/', 'https://visitseattle.org/events/tourist-and-amtrac/', 'https://visitseattle.org/events/eliades-ochoa/', 'https://visitseattle.org/events/k-wayne-yang/', 'https://visitseattle.org/events/maddie-zahm/', 'https://visitseattle.org/events/cory-wong-winter-2024-tour/', 'https://visitseattle.org/events/circahumans-2-0/', 'https://visitseattle.org/events/jon-batiste/', 'https://visitseattle.org/events/tobymac-hits-deep-2024/', 'https://visitseattle.org/events/a-case-for-the-existence-of-god/', 'https://visitseattle.org/events/northwest-flower-garden-festival/', 'https://visitseattle.org/events/the-princess-bride-in-concert-with-the-seattle-symphony/', 'https://visitseattle.org/events/mindi-abair-wine-and-jazz-tour-2024/', 'https://visitseattle.org/events/madonna/', 'https://visitseattle.org/events/meet-the-author-maggie-taft-the-chieftain-and-the-chair/', 'https://visitseattle.org/events/seattle-kraken-vs-detroit-red-wings/', 'https://visitseattle.org/events/from-mozart-to-matthews/', 'https://visitseattle.org/events/lukas-nelson/', 'https://visitseattle.org/events/mahogany-smartfilms-black-luxury/', 'https://visitseattle.org/events/wu-han-philip-setzer-david-finckel/', 'https://visitseattle.org/events/the-cookers/', 'https://visitseattle.org/events/side-by-side-with-seattle-youth-symphony-orchestra/', 'https://visitseattle.org/events/seattle-kraken-vs-vancouver-canucks/', 'https://visitseattle.org/events/funky-friday-with-f2d/', 'https://visitseattle.org/events/blackstar-symphony-the-music-of-david-bowie/', 'https://visitseattle.org/events/opera-talk-the-making-of-x/', 'https://visitseattle.org/events/wreckno/', 'https://visitseattle.org/events/kelly-akashi/', 'https://visitseattle.org/events/the-lower-depths/', 'https://visitseattle.org/events/dan-brown-wild-symphony/', 'https://visitseattle.org/events/pink-sweat/', 'https://visitseattle.org/events/seattle-kraken-vs-minnesota-wild-2/', 'https://visitseattle.org/events/small-island-big-song/', 'https://visitseattle.org/events/born-with-teeth/', 'https://visitseattle.org/events/once-more-just-for-you/', 'https://visitseattle.org/events/wintergrass-music-festival/', 'https://visitseattle.org/events/seattle-kraken-vs-boston-bruins/', 'https://visitseattle.org/events/hunt-for-sleeping-giants-national-geographic-live/', 'https://visitseattle.org/events/playboi-carti/', 'https://visitseattle.org/events/winter-brilliance/', 'https://visitseattle.org/events/seattle-museum-month/', 'https://visitseattle.org/events/seattle-kraken-vs-pittsburgh-penguins/', 'https://visitseattle.org/events/the-human-family-2/', 'https://visitseattle.org/events/fall-out-boy/', 'https://visitseattle.org/events/tacoma-stars-vs-harrisburg-heat/', 'https://visitseattle.org/events/conrad-taos-playlist/', 'https://visitseattle.org/events/seattle-kraken-vs-edmonton-oilers/', 'https://visitseattle.org/events/emerald-city-comic-con/', 'https://visitseattle.org/events/tacoma-stars-vs-harrisburg-heat-2/', 'https://visitseattle.org/events/calidore-quartet-abeo-quartet/', 'https://visitseattle.org/events/holding-movement/', 'https://visitseattle.org/events/seattle-kraken-vs-winnipeg-jets/', 'https://visitseattle.org/events/xthe-life-and-times-of-malcolm-x/', 'https://visitseattle.org/events/bach-st-john-passion/', 'https://visitseattle.org/events/helene-grimaud/', 'https://visitseattle.org/events/positive-fragmentation/', 'https://visitseattle.org/events/antonio-m-gomez-lineajes/', 'https://visitseattle.org/events/soren-solkaer-sort-sol/', 'https://visitseattle.org/events/luchadora/', 'https://visitseattle.org/events/wild-cats-revealed-national-geographic-live/', 'https://visitseattle.org/events/seattle-kraken-vs-vegas-golden-knights/', 'https://visitseattle.org/events/seattle-kraken-vs-washington-capitals/', 'https://visitseattle.org/events/mark-morris-dance-group-the-look-of-love/', 'https://visitseattle.org/events/sibelius-nielsen/', 'https://visitseattle.org/events/tacoma-stars-vs-chihuahua-savage/', 'https://visitseattle.org/events/seattle-kraken-vs-nashville-predators/', 'https://visitseattle.org/events/native-portraiture-power-and-perception/', 'https://visitseattle.org/events/places-to-call-home-settlements-in-the-west/', 'https://visitseattle.org/events/nobody-lives-here/', 'https://visitseattle.org/events/rootabaga-country/', 'https://visitseattle.org/events/seattle-kraken-vs-buffalo-sabres/', 'https://visitseattle.org/events/tacoma-stars-vs-empire-strykers-2/', 'https://visitseattle.org/events/somethings-afoot/', 'https://visitseattle.org/events/one-thousand-pieces/', 'https://visitseattle.org/events/simon-trpceski-plays-tchaikovsky/', 'https://visitseattle.org/events/seattle-kraken-vs-montreal-canadiens/', 'https://visitseattle.org/events/seattle-kraken-vs-anaheim-ducks/', 'https://visitseattle.org/events/seattle-kraken-vs-anaheim-ducks-2/', 'https://visitseattle.org/events/tim-mcgraw/', 'https://visitseattle.org/events/harold-and-the-purple-crayon/', 'https://visitseattle.org/events/seattle-kraken-vs-dallas-stars/', 'https://visitseattle.org/events/illuminate-glass-art-for-early-learners/', 'https://visitseattle.org/events/al-youngs-1970-dodge-challenger-drag-racer/', 'https://visitseattle.org/events/sanctuary-city/', 'https://visitseattle.org/events/stew/', 'https://visitseattle.org/events/luis-miguel/', 'https://visitseattle.org/events/taylor-raven-and-duke-kim-in-recital/', 'https://visitseattle.org/events/copland-appalachian-spring/', 'https://visitseattle.org/events/la-vaughn-belle-a-history-of-unruly-returns/', 'https://visitseattle.org/events/beetlejuice/', 'https://visitseattle.org/events/seattle-kraken-vs-arizona-coyotes/', 'https://visitseattle.org/events/seattle-kraken-vs-san-jose-sharks/', 'https://visitseattle.org/events/the-percussion-sounds-from-home/', 'https://visitseattle.org/events/honoring-50-years-of-papunya-tula-painting/', 'https://visitseattle.org/events/the-moors/', 'https://visitseattle.org/events/mahler-symphony-no-3/', 'https://visitseattle.org/events/best-of-the-northwest-spring-show/', 'https://visitseattle.org/events/an-evening-with-jinjoo-cho/', 'https://visitseattle.org/events/dvorak-symphony-no-6/', 'https://visitseattle.org/events/the-seasons-canon/', 'https://visitseattle.org/events/drum-tao-30th-anniversary/', 'https://visitseattle.org/events/disneys-aladdin/', 'https://visitseattle.org/events/antarctic-symphony/', 'https://visitseattle.org/events/shine-on-seattle/', 'https://visitseattle.org/events/noah-gellers-playlist/', 'https://visitseattle.org/events/broadway-spectacular/', 'https://visitseattle.org/events/jessica-jackson-hutchins-wrecked-and-righteous/', 'https://visitseattle.org/events/the-lion-tells-his-tale/', 'https://visitseattle.org/events/guma-gela-part-land-part-sea-all-ancestry/', 'https://visitseattle.org/events/fat-ham/', 'https://visitseattle.org/events/a-tale-of-peter-rabbit/', 'https://visitseattle.org/events/the-lehman-trilogy/', 'https://visitseattle.org/events/the-untold-story-of-sharks-national-geographic-live/', 'https://visitseattle.org/events/mother/', 'https://visitseattle.org/events/barber-violin-concerto/', 'https://visitseattle.org/events/the-barber-of-seville/', 'https://visitseattle.org/events/unriveled/', 'https://visitseattle.org/events/george-balenchines-coppelia/', 'https://visitseattle.org/events/jan-lisiecki-plays-prokofiev/', 'https://visitseattle.org/events/beethoven-symphony-no-5/', 'https://visitseattle.org/events/elizabeth-malaska-all-be-your-mirror/', 'https://visitseattle.org/events/joshua-bell-plays-elements-concerto/', 'https://visitseattle.org/events/together-again-again/', 'https://visitseattle.org/events/lip-sync-for-our-rights/', 'https://visitseattle.org/events/company/', 'https://visitseattle.org/events/2024-university-of-washington-mfa-mdes-thesis-exhibition/', 'https://visitseattle.org/events/spring-awakening/', 'https://visitseattle.org/events/girl-from-the-north-country/', 'https://visitseattle.org/events/nordic-utopia-african-americans-in-the-20th-century/', 'https://visitseattle.org/events/clue/', 'https://visitseattle.org/events/be-water-my-friend-the-teachings-of-bruce-lee/', 'https://visitseattle.org/events/olivia-rodrigo/', 'https://visitseattle.org/events/hidden-worlds-the-films-of-laika/', 'https://visitseattle.org/events/sound-check-the-music-we-make/', 'https://visitseattle.org/events/raul-de-nieves/', 'https://visitseattle.org/events/frye-salon/', 'https://visitseattle.org/events/on-native-land-landscapes-from-the-haub-family-collection/', 'https://visitseattle.org/events/washi-transformed-new-expressions-in-japanese-paper/', 'https://visitseattle.org/events/explore-the-market/', 'https://visitseattle.org/events/olympic-sculpture-park/', 'https://visitseattle.org/events/infinite-worlds-of-science-fiction/', 'https://visitseattle.org/events/wild-blue-angel-hendrix-abroad-1966-70/', 'https://visitseattle.org/events/john-grade-middle-fork/', 'https://visitseattle.org/events/scared-to-death-the-thrill-of-horror-film/', 'https://visitseattle.org/events/nirvana-taking-punk-to-the-masses/', 'https://visitseattle.org/events/vietnam-divided-war-above-southeast-asia/', 'https://visitseattle.org/events/science-fiction-and-fantasy-hall-of-fame/', 'https://visitseattle.org/events/cambodian-cultural-museum-and-killing-fields-memorial/', 'https://visitseattle.org/events/honoring-our-journey/', 'https://visitseattle.org/events/spotlight-on-dale-chihuly-works-from-museum-of-glass-permanent-collection/', 'https://visitseattle.org/events/great-hall-of-washington-history/', 'https://visitseattle.org/events/humboldt-penguin-exhibit/', 'https://visitseattle.org/events/giant-pacific-octopus/', 'https://visitseattle.org/events/meet-our-marine-mammals/', 'https://visitseattle.org/events/window-on-washington-waters/', 'https://visitseattle.org/events/guitar-gallery/', 'https://visitseattle.org/events/nordic-journeys/', 'https://visitseattle.org/events/bairds-beaked-whale/', 'https://visitseattle.org/events/amazing-life/', 'https://visitseattle.org/events/culture-is-living/', 'https://visitseattle.org/events/fossils-uncovered/', 'https://visitseattle.org/events/northwest-native-art/', 'https://visitseattle.org/events/our-material-world/', 'https://visitseattle.org/events/apollo/', 'https://visitseattle.org/events/art-and-life-along-the-northwest-coast/', 'https://visitseattle.org/events/washington-my-home/', 'https://visitseattle.org/events/sensory-friendly-programs/', 'https://visitseattle.org/events/dale-chihuly-at-tacoma-art-museum/', 'https://visitseattle.org/events/be-longing-contemporary-asian-art/', 'https://visitseattle.org/events/porcelain-room/', 'https://visitseattle.org/events/life-on-the-edge/', 'https://visitseattle.org/events/tropical-pacific/', 'https://visitseattle.org/events/underwater-dome/', 'https://visitseattle.org/events/meet-the-animals/', 'https://visitseattle.org/events/chihuly-garden-and-glass/', 'https://visitseattle.org/events/discover-ancient-coast-salish-culture/', 'https://visitseattle.org/events/savor-seattle-signature-tour-pike-place-market/', 'https://visitseattle.org/events/untold-stories-world-war-ii-at-75/', 'https://visitseattle.org/events/bezos-center-for-innovation/', 'https://visitseattle.org/events/maritime-seattle/', 'https://visitseattle.org/events/true-northwest-the-seattle-journey/', 'https://visitseattle.org/events/metaphor-into-form-art-in-the-era-of-the-pilchuck-glass-school/', 'https://visitseattle.org/events/winter-in-the-west/', 'https://visitseattle.org/events/ballard-farmers-market-sunday/', 'https://visitseattle.org/events/capitol-hill-farmers-market-sunday/', 'https://visitseattle.org/events/university-district-farmers-market/', 'https://visitseattle.org/events/fremont-sunday-market/', 'https://visitseattle.org/events/chihuly-garden-and-glass-gallery-talks-tours/', 'https://visitseattle.org/events/boundless-stories-of-asian-art/', 'https://visitseattle.org/events/kenzan-tsutakawa-chinn-gather/', 'https://visitseattle.org/events/art-walk-edmonds-every-third-thursday/', 'https://visitseattle.org/events/rise-up-stonewall-and-the-lgbtq-rights-movement/', 'https://visitseattle.org/events/show-me-seattle-tours/', 'https://visitseattle.org/events/lemay-americas-car-museum/', 'https://visitseattle.org/events/history-link-tours/', 'https://visitseattle.org/events/west-seattle-farmers-market-sundays/', 'https://visitseattle.org/events/remembrance-the-legacy-of-executive-order-9066-in-washington-state/', 'https://visitseattle.org/events/pioneer-square-first-thursday-art-walk/', 'https://visitseattle.org/events/deities-and-demons-supernatural-in-japanese-art/', 'https://visitseattle.org/events/american-art-the-stories-we-carry/', 'https://visitseattle.org/events/pacific-species/', 'https://visitseattle.org/events/reverberations-contemporary-art-and-modern-classics/', 'https://visitseattle.org/events/75-years-of-porsche/', 'https://visitseattle.org/events/manazma-sheen/']\n"
     ]
    }
   ],
   "source": [
    "event_list = []\n",
    "\n",
    "for i in range(1, 42):\n",
    "    url = \"https://visitseattle.org/events/page/\"+str(i)\n",
    "\n",
    "    # time.sleep(1) #wait for 1 second\n",
    "    res = requests.get(url) #read information from the server\n",
    "\n",
    "    # check if the server response is ok\n",
    "    if res.status_code == 200:\n",
    "        soup = BeautifulSoup(res.text, \"html.parser\")\n",
    "        selector = \"div.search-result-preview > div > h3 > a\"\n",
    "        a_eles = soup.select(selector)\n",
    "\n",
    "        #add lists of events to event_list\n",
    "        event_list += [x['href'] for x in a_eles]\n",
    "\n",
    "print (event_list)\n"
   ]
  },
  {
   "cell_type": "code",
   "execution_count": 4,
   "metadata": {},
   "outputs": [],
   "source": [
    "import csv\n"
   ]
  },
  {
   "cell_type": "code",
   "execution_count": 5,
   "metadata": {},
   "outputs": [],
   "source": [
    "# open a csv file to write\n",
    "with open('event_list.csv', 'w', newline = '') as f:\n",
    "    #create a csv writer object\n",
    "    writer = csv.writer(f)\n",
    "\n",
    "    # write the header\n",
    "    writer.writerow([\"Name\", \"Date & Time\", \"Location\", \"Type\", \"Region\"])\n",
    "\n",
    "    # loop through each event and write data to csv file\n",
    "    for event_url in event_list:\n",
    "        res = requests.get(event_url)\n",
    "\n",
    "        # check if the server response is ok\n",
    "        if res.status_code == 200:\n",
    "            event_info = []\n",
    "            # parse the html text\n",
    "            soup = BeautifulSoup(res.text, \"html.parser\")\n",
    "\n",
    "            # get the name of the event\n",
    "            name_selector = \"div.medium-6.columns.event-top > h1\"\n",
    "            name_eles = soup.select(name_selector)\n",
    "            event_info.append(name_eles[0].text)\n",
    "            \n",
    "            # get the date and time of the event\n",
    "            date_and_time_selector = \"div.medium-6.columns.event-top > h4 > span:nth-child(1)\"\n",
    "            date_and_time_eles = soup.select(date_and_time_selector)\n",
    "            event_info.append(date_and_time_eles[0].text)\n",
    "\n",
    "            # get the location of the event\n",
    "            location_selector = \"div.medium-6.columns.event-top > h4 > span:nth-child(2)\"\n",
    "            location_eles = soup.select(location_selector)\n",
    "            event_info.append(location_eles[0].text)\n",
    "\n",
    "            # get the type of the event\n",
    "            type_selector = \"div.medium-6.columns.event-top > a:nth-child(3)\"\n",
    "            type_eles = soup.select(type_selector)\n",
    "            event_info.append(type_eles[0].text)\n",
    "\n",
    "            # get the region of the event\n",
    "            region_selector = \"div.medium-6.columns.event-top > a:nth-child(4)\"\n",
    "            region_eles = soup.select(region_selector)\n",
    "            event_info.append(region_eles[0].text)\n",
    "\n",
    "            writer.writerow(event_info)\n",
    "\n",
    "                            "
   ]
  },
  {
   "cell_type": "code",
   "execution_count": 6,
   "metadata": {},
   "outputs": [],
   "source": [
    "import requests\n",
    "import datetime\n",
    "import re"
   ]
  },
  {
   "cell_type": "code",
   "execution_count": 7,
   "metadata": {},
   "outputs": [
    {
     "name": "stdout",
     "output_type": "stream",
     "text": [
      "['Corey Harper', '1/24/2024', 'Capitol Hill / Central District', '48°F, Rain']\n",
      "['DJ Shadow', '1/24/2024', 'University District', '50°F, Light Rain']\n",
      "['Opera on Tap', '1/24/2024', 'South Seattle', '49°F, Rain']\n",
      "['PBS – Peter Band Supreme', '1/24/2024', 'Wallingford / Greenlake', '48°F, Rain']\n",
      "['Seattle Kraken vs. Chicago Blackhawks', '1/24/2024', 'Queen Anne / Seattle Center', '49°F, Rain']\n",
      "['Silent Planet', '1/24/2024', 'Downtown', '62°F, Partly Sunny']\n",
      "['Stuff You Should Know', '1/24/2024', 'Downtown', '62°F, Partly Sunny']\n",
      "['The Cooking Gene', '1/24/2024', 'Downtown', '62°F, Partly Sunny']\n",
      "['Aryana Leon', '1/25/2024', 'Capitol Hill / Central District', '49°F, Light Rain']\n",
      "['Colorworks', '1/25/2024', 'Fremont / Ballard', '60°F, Areas Of Fog then Mostly Sunny']\n",
      "['Dar Williams', '1/25/2024', 'University District', '50°F, Light Rain']\n",
      "['Deb Perelman', '1/25/2024', 'Downtown', '64°F, Patchy Fog then Partly Sunny']\n",
      "['Emanuel Brown', '1/25/2024', 'Capitol Hill / Central District', '49°F, Light Rain']\n",
      "['James Miles', '1/25/2024', 'Downtown', '64°F, Patchy Fog then Partly Sunny']\n",
      "['Madeline Pendleton', '1/25/2024', 'Capitol Hill / Central District', '49°F, Light Rain']\n",
      "['October London', '1/25/2024', 'Downtown', '64°F, Patchy Fog then Partly Sunny']\n",
      "['Dungeons and Drag Queens', '1/26/2024', 'Downtown', '70°F, Mostly Sunny']\n",
      "['Global Rhythms: Yungchen Lhamo', '1/26/2024', 'Downtown', '70°F, Mostly Sunny']\n",
      "['Seattle Kraken vs. St. Louis Blues', '1/26/2024', 'Queen Anne / Seattle Center', '49°F, Light Rain']\n",
      "['Shelf Nunny', '1/26/2024', 'Capitol Hill / Central District', '49°F, Light Rain']\n",
      "['Super Diamond – The Neil Diamond Tribute Band', '1/26/2024', 'Downtown', '70°F, Mostly Sunny']\n",
      "['The Disorderlies', '1/26/2024', 'South Seattle', '50°F, Light Rain']\n",
      "['Harlem Globetrotters', '1/27/2024', 'Queen Anne / Seattle Center', '52°F, Light Rain']\n",
      "['The Budos Band', '1/27/2024', 'Downtown', '75°F, Mostly Sunny']\n",
      "['The Human Family', '1/27/2024', 'Queen Anne / Seattle Center', '52°F, Light Rain']\n",
      "['Celebrate Asia', '1/28/2024', 'Downtown', '77°F, Mostly Sunny']\n",
      "['Family Day with Birds Connect Seattle', '1/28/2024', 'Fremont / Ballard', '70°F, Mostly Sunny']\n",
      "['Seattle Kraken vs. Columbus Blue Jackets', '1/28/2024', 'Queen Anne / Seattle Center', '55°F, Light Rain']\n",
      "['Adira Sharkey', '1/29/2024', 'Fremont / Ballard', '70°F, Mostly Sunny']\n",
      "['Car, The Garden', '1/29/2024', 'Downtown', '76°F, Sunny']\n",
      "['Cheryl Wheeler', '1/30/2024', 'Downtown', '74°F, Mostly Sunny']\n",
      "['Giantish', '1/30/2024', 'Fremont / Ballard', '70°F, Chance Light Rain']\n"
     ]
    }
   ],
   "source": [
    "# read the event file into a list of event dictionaries, using the header row to determine column names.\n",
    "events_file = open('event_list.csv', 'r')\n",
    "events = list( csv.DictReader(events_file, delimiter=','))\n",
    "events_file.close()\n",
    "\n",
    "with open('event_weather_info.csv', 'w', newline = '') as f:\n",
    "    # create a csv writer object\n",
    "    writer = csv.writer(f)\n",
    "\n",
    "    # write the header\n",
    "    writer.writerow([\"Name\", \"Region\", \"Weathers\"])\n",
    "    \n",
    "\n",
    "    # look up the weather for the region of each event\n",
    "    for event in events:\n",
    "\n",
    "        date = event['Date & Time']\n",
    "\n",
    "        if re.match(r'^\\d{1,2}/\\d{1,2}/\\d{4}$', date): # check if the date is in the format of mm/dd/yyyy\n",
    "\n",
    "            # get the coordinate of the event by using the region\n",
    "            region = event['Region']\n",
    "            res = requests.get(f\"https://nominatim.openstreetmap.org/search.php?q={region}&format=jsonv2\")\n",
    "            region = res.json()\n",
    "            if res.status_code == 200 and region != []:\n",
    "                \n",
    "                # get the latitude and longitude of the region\n",
    "                lat, lon = region[0]['lat'], region[0]['lon']\n",
    "\n",
    "                # get the weather for the location using the latitude and longitude\n",
    "                res = requests.get(f\"https://api.weather.gov/points/{lat},{lon}\")\n",
    "                weather_point = res.json()\n",
    "                if res.status_code == 200:\n",
    "        \n",
    "                    # get the weather forecast\n",
    "                    forecast_url = weather_point['properties']['forecast']\n",
    "                    res = requests.get(forecast_url)\n",
    "                    forecast = res.json()\n",
    "\n",
    "                    # get the weather for the date of the event\n",
    "                    for period in forecast['properties']['periods']:\n",
    "                        if period['isDaytime']:\n",
    "                            start_time = datetime.datetime.fromisoformat(period['startTime']).date()\n",
    "                            if start_time == datetime.datetime.strptime(date,\"%m/%d/%Y\").date():\n",
    "                                temperature = period['temperature']\n",
    "                                short_forecast = period['shortForecast']\n",
    "                                weather = f\"{temperature}°F, {short_forecast}\" # will show in the format of (70°F, Sunny)\n",
    "                                print([event['Name'], event['Date & Time'],event['Region'], weather])\n",
    "                                writer.writerow([event['Name'], event['Date & Time'], event['Region'], weather])\n",
    "                                break\n"
   ]
  }
 ],
 "metadata": {
  "kernelspec": {
   "display_name": "base",
   "language": "python",
   "name": "python3"
  },
  "language_info": {
   "codemirror_mode": {
    "name": "ipython",
    "version": 3
   },
   "file_extension": ".py",
   "mimetype": "text/x-python",
   "name": "python",
   "nbconvert_exporter": "python",
   "pygments_lexer": "ipython3",
   "version": "3.11.5"
  }
 },
 "nbformat": 4,
 "nbformat_minor": 2
}
